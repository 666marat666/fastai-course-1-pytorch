{
 "cells": [
  {
   "cell_type": "markdown",
   "metadata": {},
   "source": [
    "# Using Convolutional Neural Networks"
   ]
  },
  {
   "cell_type": "markdown",
   "metadata": {},
   "source": [
    "Welcome to the first week of the first deep learning certificate! We're going to use convolutional neural networks (CNNs) to allow our computer to see - something that is only possible thanks to deep learning."
   ]
  },
  {
   "cell_type": "markdown",
   "metadata": {},
   "source": [
    "## Introduction to this week's task: 'Dogs vs Cats'"
   ]
  },
  {
   "cell_type": "markdown",
   "metadata": {},
   "source": [
    "We're going to try to create a model to enter the [Dogs vs Cats](https://www.kaggle.com/c/dogs-vs-cats) competition at Kaggle. There are 25,000 labelled dog and cat photos available for training, and 12,500 in the test set that we have to try to label for this competition. According to the Kaggle web-site, when this competition was launched (end of 2013): *\"**State of the art**: The current literature suggests machine classifiers can score above 80% accuracy on this task\"*. So if we can beat 80%, then we will be at the cutting edge as of 2013!"
   ]
  },
  {
   "cell_type": "markdown",
   "metadata": {},
   "source": [
    "## Basic setup"
   ]
  },
  {
   "cell_type": "markdown",
   "metadata": {},
   "source": [
    "There isn't too much to do to get started - just a few simple configuration steps.\n",
    "\n",
    "This imports all dependencies and shows plots in the web page itself - we always wants to use this when using jupyter notebook:"
   ]
  },
  {
   "cell_type": "code",
   "execution_count": 2,
   "metadata": {},
   "outputs": [],
   "source": [
    "import torch\n",
    "import torchvision.models as models\n",
    "import torchvision.transforms as transforms\n",
    "import torchvision.datasets as datasets\n",
    "from torchvision.utils import make_grid\n",
    "from PIL import Image\n",
    "import matplotlib.pyplot as plt\n",
    "import torch.nn as nn\n",
    "import torch.optim as optim\n",
    "import torch.utils.trainer as trainer\n",
    "import torch.utils.trainer.plugins\n",
    "from torch.autograd import Variable\n",
    "import numpy as np\n",
    "import os\n",
    "\n",
    "from torchsample.modules import ModuleTrainer\n",
    "from torchsample.metrics import CategoricalAccuracy\n",
    "\n",
    "%matplotlib inline"
   ]
  },
  {
   "cell_type": "code",
   "execution_count": 3,
   "metadata": {
    "collapsed": true
   },
   "outputs": [],
   "source": [
    "def show(img):\n",
    "    npimg = img.numpy()\n",
    "    plt.imshow(np.transpose(npimg, (1,2,0)), interpolation='nearest')"
   ]
  },
  {
   "cell_type": "markdown",
   "metadata": {},
   "source": [
    "Define path to data: (It's a good idea to put it in a subdirectory of your notebooks folder, and then exclude that directory from git control by adding it to .gitignore.). Additionaly set use_cuda = True to use a GPU for training and prediction."
   ]
  },
  {
   "cell_type": "code",
   "execution_count": 11,
   "metadata": {},
   "outputs": [
    {
     "name": "stdout",
     "output_type": "stream",
     "text": [
      "Using CUDA: False\n"
     ]
    }
   ],
   "source": [
    "data_path = \"data/dogscats/\"\n",
    "# data_path = \"data/dogscats/sample/\"\n",
    "use_cuda = True\n",
    "batch_size = 64\n",
    "print('Using CUDA:', use_cuda)"
   ]
  },
  {
   "cell_type": "markdown",
   "metadata": {},
   "source": [
    "# Use a pretrained VGG model with PyTorch's **Vgg16** class"
   ]
  },
  {
   "cell_type": "markdown",
   "metadata": {},
   "source": [
    "Our first step is simply to use a model that has been fully created for us, which can recognise a wide variety (1,000 categories) of images. We will use 'VGG', which won the 2014 Imagenet competition, and is a very simple model to create and understand. The VGG Imagenet team created both a larger, slower, slightly more accurate model (*VGG  19*) and a smaller, faster model (*VGG 16*). We will be using VGG 16 since the much slower performance of VGG19 is generally not worth the very minor improvement in accuracy.\n",
    "\n",
    "PyTorch includes a class, *Vgg16*, which makes using the VGG 16 model very straightforward. "
   ]
  },
  {
   "cell_type": "markdown",
   "metadata": {},
   "source": [
    "## The punchline: state of the art custom model in 7 lines of code\n",
    "\n",
    "Here's everything you need to do to get >97% accuracy on the Dogs vs Cats dataset - we won't analyze how it works behind the scenes yet, since at this stage we're just going to focus on the minimum necessary to actually do useful work."
   ]
  },
  {
   "cell_type": "code",
   "execution_count": 5,
   "metadata": {
    "collapsed": true
   },
   "outputs": [],
   "source": [
    "# TODO refactor the code below and put it in utils.py to simplify allow creating a custom model in 7 lines of code"
   ]
  },
  {
   "cell_type": "markdown",
   "metadata": {},
   "source": [
    "## Use Vgg16 for basic image recognition\n",
    "\n",
    "Let's start off by using the *Vgg16* class to recognise the main imagenet category for each image.\n",
    "\n",
    "We won't be able to enter the Cats vs Dogs competition with an Imagenet model alone, since 'cat' and 'dog' are not categories in Imagenet - instead each individual breed is a separate category. However, we can use it to see how well it can recognise the images, which is a good first step.\n",
    "\n",
    "First create a DataLoader which will read the images from disk, resize them, convert them into tensors and normalize them the same way the Vgg16 network was trained (using ImageNet's RGB mean and std)."
   ]
  },
  {
   "cell_type": "code",
   "execution_count": 12,
   "metadata": {},
   "outputs": [
    {
     "name": "stdout",
     "output_type": "stream",
     "text": [
      "Images in test folder: 6\n"
     ]
    }
   ],
   "source": [
    "# Data loading code\n",
    "traindir = os.path.join(data_path, 'train')\n",
    "valdir = os.path.join(data_path, 'valid') \n",
    "# cd data/dogscats && mkdir -p test && mv test1 test/\n",
    "testdir = os.path.join(data_path, 'test')\n",
    "\n",
    "# pytorch way of implementing fastai's get_batches, (utils.py)\n",
    "def get_data_loader(dirname, shuffle=True, batch_size = 64):\n",
    "    # pytorch's VGG requires images to be 224x224 and normalized using https://github.com/pytorch/vision#models\n",
    "    normalize = transforms.Compose([\n",
    "        transforms.Lambda(lambda img: img.resize((224, 224), Image.BILINEAR)),\n",
    "        transforms.ToTensor(),\n",
    "        transforms.Normalize(mean=[0.485, 0.456, 0.406], std=[0.229, 0.224, 0.225]),\n",
    "    ])\n",
    "    \n",
    "    image_folder = datasets.ImageFolder(dirname, normalize)\n",
    "    return torch.utils.data.DataLoader(image_folder, batch_size=batch_size, \n",
    "                                       shuffle=shuffle, pin_memory=use_cuda), image_folder\n",
    "\n",
    "train_loader, folder = get_data_loader(traindir, batch_size=batch_size)\n",
    "val_loader, folder = get_data_loader(valdir, shuffle=False, batch_size=batch_size)\n",
    "test_loader, testfolder = get_data_loader(testdir, shuffle=False, batch_size=batch_size)\n",
    "\n",
    "print('Images in test folder:', len(testfolder.imgs))"
   ]
  },
  {
   "cell_type": "markdown",
   "metadata": {},
   "source": [
    "Then, create a Vgg16 object:"
   ]
  },
  {
   "cell_type": "code",
   "execution_count": 13,
   "metadata": {},
   "outputs": [],
   "source": [
    "# Load the model\n",
    "model = models.vgg16(pretrained=True)"
   ]
  },
  {
   "cell_type": "markdown",
   "metadata": {},
   "source": [
    "Then *finetune* the model such that it will be trained based on the data in the batches provided - in this case, to predict either 'dog' or 'cat'."
   ]
  },
  {
   "cell_type": "code",
   "execution_count": 22,
   "metadata": {},
   "outputs": [
    {
     "name": "stdout",
     "output_type": "stream",
     "text": [
      "Using 2 classes: ['cats', 'dogs']\n"
     ]
    }
   ],
   "source": [
    "# Finetune by replacing the last fully connected layer and freezing all network parameters\n",
    "for param in model.parameters():\n",
    "    param.requires_grad = False\n",
    "\n",
    "# Replace the last fully-connected layer matching the new class count\n",
    "classes = train_loader.dataset.classes\n",
    "num_classes = len(classes)\n",
    "print('Using {:d} classes: {}'.format(num_classes, classes))\n",
    "model.classifier = nn.Sequential(\n",
    "            nn.Linear(512 * 7 * 7, 4096),\n",
    "            nn.ReLU(True),\n",
    "            nn.Dropout(),\n",
    "            nn.Linear(4096, 4096),\n",
    "            nn.ReLU(True),\n",
    "            nn.Dropout(),\n",
    "            nn.Linear(4096, num_classes),\n",
    "        )\n",
    "\n",
    "# Monkey patch the parameters() to return trainable weights only\n",
    "import types\n",
    "\n",
    "def parameters(self):\n",
    "    p = filter(lambda p: p.requires_grad, nn.Module.parameters(self))\n",
    "    return p\n",
    "\n",
    "model.parameters = types.MethodType(parameters, model)"
   ]
  },
  {
   "cell_type": "code",
   "execution_count": 23,
   "metadata": {},
   "outputs": [],
   "source": [
    "# define loss function (criterion) and optimizer\n",
    "criterion = nn.CrossEntropyLoss()\n",
    "# enable cuda if available\n",
    "if(use_cuda):\n",
    "    model.cuda()\n",
    "    criterion.cuda()"
   ]
  },
  {
   "cell_type": "code",
   "execution_count": 24,
   "metadata": {
    "collapsed": true
   },
   "outputs": [],
   "source": [
    "def getTrainer(lr):\n",
    "    trainer = ModuleTrainer(model)\n",
    "    trainer.set_optimizer(optim.Adam, lr=1e-3)\n",
    "    trainer.set_loss(criterion)\n",
    "    trainer.set_metrics([CategoricalAccuracy()])\n",
    "    \n",
    "    return trainer"
   ]
  },
  {
   "cell_type": "markdown",
   "metadata": {},
   "source": [
    "Finally, we fit() the parameters of the model using the training data, reporting the accuracy on the validation set after every epoch. (An epoch is one full pass through the training data.)"
   ]
  },
  {
   "cell_type": "code",
   "execution_count": 25,
   "metadata": {},
   "outputs": [
    {
     "name": "stderr",
     "output_type": "stream",
     "text": [
      "Epoch 1/2: 4 batches [08:03, 114.11s/ batches, val_acc=50.31, val_loss=15.9782, loss=15.0138, acc=50.62]\n",
      "Epoch 2/2: 4 batches [10:48, 161.16s/ batches, val_acc=61.56, val_loss=1.3137, loss=8.2031, acc=64.38]\n"
     ]
    }
   ],
   "source": [
    "trainer = getTrainer()\n",
    "trainer.fit_loader(train_loader, val_loader=train_loader, nb_epoch=3)\n",
    "# This gets a validation accuracy of 98.9 when using the whole dataset"
   ]
  },
  {
   "cell_type": "markdown",
   "metadata": {},
   "source": [
    "That shows all of the steps involved in using the Vgg16 class to create an image recognition model using whatever labels you are interested in. For instance, this process could classify paintings by style, or leaves by type of disease, or satellite photos by type of crop, and so forth.\n",
    "Next up, we'll dig one level deeper to see what's going on in the Vgg16 class."
   ]
  },
  {
   "cell_type": "markdown",
   "metadata": {},
   "source": [
    "## Visually validate the classifier"
   ]
  },
  {
   "cell_type": "code",
   "execution_count": 19,
   "metadata": {},
   "outputs": [],
   "source": [
    "# Define some helper functions\n",
    "\n",
    "def denorm(tensor):\n",
    "    # Undo the image normalization + clamp between 0 and 1 to avoid image artifacts\n",
    "    for t, m, s in zip(tensor, [0.485, 0.456, 0.406], [0.229, 0.224, 0.225]): \n",
    "        t.mul_(s).add_(m).clamp_(0, 1)\n",
    "    return tensor\n",
    "\n",
    "def get_images_to_plot(images_tensor):\n",
    "    denormalize = transforms.Compose([\n",
    "        transforms.Lambda(denorm)\n",
    "    ])\n",
    "    return denormalize(images_tensor)\n",
    "\n",
    "def get_classes_strings(classes, labels_ids):\n",
    "    # returns the classes in string format\n",
    "    return [classes[label_id] for label_id in labels_ids]\n",
    "\n",
    "def get_prediction_classes_ids(predictions):\n",
    "    # returns the predictions in id format\n",
    "    predictions_ids = predictions.cpu().data.numpy().argmax(1)\n",
    "    return predictions_ids\n",
    "\n",
    "def get_prediction_classes_strings(classes, predictions):\n",
    "    # returns the predictions in string format\n",
    "    return get_classes_strings(classes, get_prediction_classes_ids(predictions))"
   ]
  },
  {
   "cell_type": "code",
   "execution_count": 30,
   "metadata": {},
   "outputs": [
    {
     "name": "stdout",
     "output_type": "stream",
     "text": [
      "['cats', 'dogs', 'cats', 'dogs']\n"
     ]
    },
    {
     "data": {
      "image/png": "[encoded data removed]",
      "text/plain": [
       "<matplotlib.figure.Figure at 0x7f0400646550>"
      ]
     },
     "metadata": {},
     "output_type": "display_data"
    }
   ],
   "source": [
    "# display a sample set of images and their labels\n",
    "loader, folder = get_data_loader(valdir, batch_size = 4)\n",
    "images, labels = next(iter(loader))\n",
    "show(make_grid(get_images_to_plot(images), padding=100))\n",
    "labels_string = get_classes_strings(classes, labels.numpy())\n",
    "print(labels_string)"
   ]
  },
  {
   "cell_type": "code",
   "execution_count": 31,
   "metadata": {},
   "outputs": [
    {
     "name": "stdout",
     "output_type": "stream",
     "text": [
      "['cats', 'dogs', 'cats', 'dogs']\n"
     ]
    }
   ],
   "source": [
    "# display the predictons for the images above\n",
    "if use_cuda:\n",
    "    images = images.cuda()\n",
    "predictions = model(Variable(images))\n",
    "predictions_string = get_prediction_classes_strings(classes, predictions)\n",
    "print(predictions_string)"
   ]
  }
 ],
 "metadata": {
  "kernelspec": {
   "display_name": "Python 3",
   "language": "python",
   "name": "python3"
  },
  "language_info": {
   "codemirror_mode": {
    "name": "ipython",
    "version": 3
   },
   "file_extension": ".py",
   "mimetype": "text/x-python",
   "name": "python",
   "nbconvert_exporter": "python",
   "pygments_lexer": "ipython3",
   "version": "3.5.2"
  }
 },
 "nbformat": 4,
 "nbformat_minor": 2
}
